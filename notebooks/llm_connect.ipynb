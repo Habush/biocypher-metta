{
 "cells": [
  {
   "cell_type": "code",
   "outputs": [
    {
     "data": {
      "text/plain": "679"
     },
     "execution_count": 80,
     "metadata": {},
     "output_type": "execute_result"
    }
   ],
   "source": [
    "terms = []\n",
    "with open(\"/mnt/hdd_2/abdu/gtex/brown_preadipocytes_irx3_enrichr_terms.txt\", \"r\") as f:\n",
    "    for line in f:\n",
    "        go_id = line.split(\"(\")[0]\n",
    "        terms.append(go_id.strip().upper())\n",
    "len(terms)"
   ],
   "metadata": {
    "collapsed": false,
    "ExecuteTime": {
     "end_time": "2024-05-23T13:53:29.926864Z",
     "start_time": "2024-05-23T13:53:29.916512Z"
    }
   },
   "id": "a43d488a4d63247",
   "execution_count": 80
  },
  {
   "cell_type": "code",
   "outputs": [
    {
     "data": {
      "text/plain": "['CYTOPLASMIC TRANSLATION', 'MACROMOLECULE BIOSYNTHETIC PROCESS']"
     },
     "execution_count": 81,
     "metadata": {},
     "output_type": "execute_result"
    }
   ],
   "source": [
    "terms[:2]"
   ],
   "metadata": {
    "collapsed": false,
    "ExecuteTime": {
     "end_time": "2024-05-23T13:53:31.756011Z",
     "start_time": "2024-05-23T13:53:31.748022Z"
    }
   },
   "id": "7e73ab5d70a47839",
   "execution_count": 81
  },
  {
   "cell_type": "code",
   "outputs": [],
   "source": [
    "from langchain_community.llms import Ollama\n",
    "\n",
    "llm = Ollama(model=\"llama3\", temperature=0.8)\n",
    "prompt = f\"\"\"<s>[INST] <<SYS>>\n",
    "You are an AI assistant trying to help a biologist decipher the mechanistic understanding of obesity. You should \n",
    "explain each of your response. Don't write introductions or conclusions.\n",
    "<</SYS>>\n",
    "\n",
    "The biologist has found a SNP 'rs1421085' to be significantly associated with obesity from GWAS study. What GO \n",
    "Biological processes \n",
    "should be she expect to be significantly enriched in the genes that are directly or indirectly affected by the \n",
    "variant. Include at least GO terms, and the more specific the GO term is the better. For each GO term explain why you \n",
    "think it's relevant for obesity in a detailed manner. Return your result in\n",
    " json \n",
    " format.[/INST]\"\"\"\n",
    "response = llm.invoke(prompt)"
   ],
   "metadata": {
    "collapsed": false,
    "ExecuteTime": {
     "end_time": "2024-05-23T13:58:00.619506Z",
     "start_time": "2024-05-23T13:57:55.221153Z"
    }
   },
   "id": "a90390c0328f6e10",
   "execution_count": 86
  },
  {
   "cell_type": "code",
   "outputs": [
    {
     "name": "stdout",
     "output_type": "stream",
     "text": [
      "{\n",
      "\"biological_processes\": [\n",
      "{\n",
      "\"GO_term\": \"regulation of insulin secretion\",\n",
      "\"description\": \"The rs14 21085 variant is located near the PDX1 gene, which plays a crucial role in regulating insulin secretion. Insulin resistance, a hallmark of obesity, can impair insulin secretion, leading to hyperglycemia and type 2 diabetes. Therefore, dysregulation of insulin secretion due to the SNP's effect on PDX1 or other nearby genes may contribute to obesity.\"\n",
      "},\n",
      "{\n",
      "\"GO_term\": \"negative regulation of lipid metabolism\",\n",
      "\"description\": \"The rs14 21085 variant is near the CELSR3 gene, which has been implicated in lipid metabolism. Obesity is characterized by increased fat storage and altered lipid profiles. Negative regulation of lipid metabolism could lead to impaired triglyceride clearance, increased cholesterol levels, or disrupted fatty acid synthesis, all contributing to obesity.\"\n",
      "},\n",
      "{\n",
      "\"GO_term\": \"negative regulation of cell proliferation\",\n",
      "\"description\": \"The rs14 21085 variant is near the CDC23 gene, which regulates cell proliferation and apoptosis. Obesity is often associated with chronic inflammation and tissue damage. Negative regulation of cell proliferation could contribute to the development of these conditions by suppressing excessive cell growth or promoting programmed cell death.\"\n",
      "},\n",
      "{\n",
      "\"GO_term\": \"regulation of glucose homeostasis\",\n",
      "\"description\": \"The rs14 21085 variant is near the PDX1 gene, which also regulates glucose homeostasis. Impaired glucose homeostasis can lead to insulin resistance and type 2 diabetes, both common comorbidities with obesity. Dysregulation of glucose homeostasis may contribute to the development or maintenance of obesity.\"\n",
      "},\n",
      "{\n",
      "\"GO_term\": \"response to nutrient availability\",\n",
      "\"description\": \"The rs14 21085 variant is near genes involved in nutrient sensing and signaling pathways. Obesity often involves altered nutrient partitioning, such as increased glucose uptake by adipose tissue. The SNP's effect on genes regulating response to nutrient availability could influence the development of obesity through changes in energy storage and utilization.\"\n",
      "}\n",
      "]\n",
      "}\n"
     ]
    }
   ],
   "source": [
    "lines = response.split(\"\\n\")\n",
    "for line in lines:\n",
    "    print(line)"
   ],
   "metadata": {
    "collapsed": false,
    "ExecuteTime": {
     "end_time": "2024-05-23T13:58:02.747645Z",
     "start_time": "2024-05-23T13:58:02.740886Z"
    }
   },
   "id": "2e1f0352881577d1",
   "execution_count": 87
  },
  {
   "cell_type": "code",
   "outputs": [
    {
     "data": {
      "text/plain": "True"
     },
     "execution_count": 70,
     "metadata": {},
     "output_type": "execute_result"
    }
   ],
   "source": [
    "\"Negative Regulation of Cell Growth\".upper() in terms"
   ],
   "metadata": {
    "collapsed": false,
    "ExecuteTime": {
     "end_time": "2024-04-29T16:46:16.422012Z",
     "start_time": "2024-04-29T16:46:16.414075Z"
    }
   },
   "id": "e16e6522091efe7c",
   "execution_count": 70
  },
  {
   "cell_type": "code",
   "outputs": [
    {
     "name": "stdout",
     "output_type": "stream",
     "text": [
      "Based on the association of SNP rs1421085 with obesity, I would suggest the following Gene Ontology (GO) biological processes to be overrepresented in the genes whose expression is affected by this SNP:\n",
      "\n",
      "1. **Regulation of lipid metabolic process** - This GO term is relevant because obesity is characterized by an imbalance in lipid metabolism, leading to excess fat storage. The associated SNP may affect genes involved in regulating lipid synthesis, breakdown, or transport, contributing to the development of obesity.\n",
      "\n",
      "2. **Glucose homeostasis** - Obesity is often accompanied by insulin resistance and glucose intolerance. Genes influenced by the SNP may play a role in maintaining glucose homeostasis, and their dysregulation could contribute to the development of obesity-related metabolic disorders.\n",
      "\n",
      "3. **Energy homeostasis** - Energy balance is critical for maintaining a healthy weight. Genes affected by the SNP may be involved in regulating energy expenditure, storage, or intake, which can impact body weight and contribute to obesity when disrupted.\n",
      "\n",
      "4. **Hormone-mediated signaling pathway** - Hormones such as leptin, insulin, and ghrelin play crucial roles in regulating energy balance and body weight. The associated SNP may influence genes involved in hormone-mediated signaling pathways, leading to disturbances in energy homeostasis and contributing to obesity.\n",
      "\n",
      "5. **Adipocyte differentiation** - Adipocytes are the primary cells responsible for storing fat in the body. Genes affected by the SNP may be involved in regulating adipocyte differentiation, which can impact fat storage capacity and contribute to obesity when dysregulated.\n",
      "\n",
      "6. **Inflammatory response** - Chronic inflammation is a known contributor to obesity and metabolic disorders. The associated SNP may influence genes involved in inflammatory responses, leading to a pro-inflammatory state that exacerbates obesity.\n",
      "\n",
      "These GO biological processes are relevant because they are all closely tied to the development and maintenance of obesity. By investigating genes affected by the SNP rs1421085 within these processes, we can gain a better understanding of the mechanistic underpinnings of obesity and potentially identify therapeutic targets for its treatment.\n"
     ]
    }
   ],
   "source": [
    "lines = response.split(\"\\n\")\n",
    "for line in lines:\n",
    "    print(line)"
   ],
   "metadata": {
    "collapsed": false,
    "ExecuteTime": {
     "end_time": "2024-04-25T16:27:56.008919Z",
     "start_time": "2024-04-25T16:27:56.003211Z"
    }
   },
   "id": "804792ade2bcd96c",
   "execution_count": 10
  },
  {
   "cell_type": "code",
   "outputs": [
    {
     "ename": "ImportError",
     "evalue": "cannot import name 'TypeAliasType' from 'typing_extensions' (/home/abdu/.local/lib/python3.10/site-packages/typing_extensions.py)",
     "output_type": "error",
     "traceback": [
      "\u001B[0;31m---------------------------------------------------------------------------\u001B[0m",
      "\u001B[0;31mImportError\u001B[0m                               Traceback (most recent call last)",
      "File \u001B[0;32m~/miniconda3/lib/python3.10/site-packages/llama_index/core/base/llms/types.py:8\u001B[0m\n\u001B[1;32m      7\u001B[0m \u001B[38;5;28;01mtry\u001B[39;00m:\n\u001B[0;32m----> 8\u001B[0m     \u001B[38;5;28;01mfrom\u001B[39;00m \u001B[38;5;21;01mpydantic\u001B[39;00m \u001B[38;5;28;01mimport\u001B[39;00m BaseModel \u001B[38;5;28;01mas\u001B[39;00m V2BaseModel\n\u001B[1;32m      9\u001B[0m     \u001B[38;5;28;01mfrom\u001B[39;00m \u001B[38;5;21;01mpydantic\u001B[39;00m\u001B[38;5;21;01m.\u001B[39;00m\u001B[38;5;21;01mv1\u001B[39;00m \u001B[38;5;28;01mimport\u001B[39;00m BaseModel \u001B[38;5;28;01mas\u001B[39;00m V1BaseModel\n",
      "File \u001B[0;32m~/miniconda3/lib/python3.10/site-packages/pydantic/__init__.py:395\u001B[0m, in \u001B[0;36m__getattr__\u001B[0;34m(attr_name)\u001B[0m\n\u001B[1;32m    394\u001B[0m \u001B[38;5;28;01melse\u001B[39;00m:\n\u001B[0;32m--> 395\u001B[0m     module \u001B[38;5;241m=\u001B[39m \u001B[43mimport_module\u001B[49m\u001B[43m(\u001B[49m\u001B[43mmodule_name\u001B[49m\u001B[43m,\u001B[49m\u001B[43m \u001B[49m\u001B[43mpackage\u001B[49m\u001B[38;5;241;43m=\u001B[39;49m\u001B[43mpackage\u001B[49m\u001B[43m)\u001B[49m\n\u001B[1;32m    396\u001B[0m     \u001B[38;5;28;01mreturn\u001B[39;00m \u001B[38;5;28mgetattr\u001B[39m(module, attr_name)\n",
      "File \u001B[0;32m~/miniconda3/lib/python3.10/importlib/__init__.py:126\u001B[0m, in \u001B[0;36mimport_module\u001B[0;34m(name, package)\u001B[0m\n\u001B[1;32m    125\u001B[0m         level \u001B[38;5;241m+\u001B[39m\u001B[38;5;241m=\u001B[39m \u001B[38;5;241m1\u001B[39m\n\u001B[0;32m--> 126\u001B[0m \u001B[38;5;28;01mreturn\u001B[39;00m \u001B[43m_bootstrap\u001B[49m\u001B[38;5;241;43m.\u001B[39;49m\u001B[43m_gcd_import\u001B[49m\u001B[43m(\u001B[49m\u001B[43mname\u001B[49m\u001B[43m[\u001B[49m\u001B[43mlevel\u001B[49m\u001B[43m:\u001B[49m\u001B[43m]\u001B[49m\u001B[43m,\u001B[49m\u001B[43m \u001B[49m\u001B[43mpackage\u001B[49m\u001B[43m,\u001B[49m\u001B[43m \u001B[49m\u001B[43mlevel\u001B[49m\u001B[43m)\u001B[49m\n",
      "File \u001B[0;32m~/miniconda3/lib/python3.10/site-packages/pydantic/main.py:17\u001B[0m\n\u001B[1;32m     15\u001B[0m \u001B[38;5;28;01mfrom\u001B[39;00m \u001B[38;5;21;01mtyping_extensions\u001B[39;00m \u001B[38;5;28;01mimport\u001B[39;00m TypeAlias\n\u001B[0;32m---> 17\u001B[0m \u001B[38;5;28;01mfrom\u001B[39;00m \u001B[38;5;21;01m.\u001B[39;00m\u001B[38;5;21;01m_internal\u001B[39;00m \u001B[38;5;28;01mimport\u001B[39;00m (\n\u001B[1;32m     18\u001B[0m     _config,\n\u001B[1;32m     19\u001B[0m     _decorators,\n\u001B[1;32m     20\u001B[0m     _fields,\n\u001B[1;32m     21\u001B[0m     _forward_ref,\n\u001B[1;32m     22\u001B[0m     _generics,\n\u001B[1;32m     23\u001B[0m     _mock_val_ser,\n\u001B[1;32m     24\u001B[0m     _model_construction,\n\u001B[1;32m     25\u001B[0m     _repr,\n\u001B[1;32m     26\u001B[0m     _typing_extra,\n\u001B[1;32m     27\u001B[0m     _utils,\n\u001B[1;32m     28\u001B[0m )\n\u001B[1;32m     29\u001B[0m \u001B[38;5;28;01mfrom\u001B[39;00m \u001B[38;5;21;01m.\u001B[39;00m\u001B[38;5;21;01m_migration\u001B[39;00m \u001B[38;5;28;01mimport\u001B[39;00m getattr_migration\n",
      "File \u001B[0;32m~/miniconda3/lib/python3.10/site-packages/pydantic/_internal/_decorators.py:15\u001B[0m\n\u001B[1;32m     14\u001B[0m \u001B[38;5;28;01mfrom\u001B[39;00m \u001B[38;5;21;01m.\u001B[39;00m\u001B[38;5;21;01m.\u001B[39;00m\u001B[38;5;21;01merrors\u001B[39;00m \u001B[38;5;28;01mimport\u001B[39;00m PydanticUserError\n\u001B[0;32m---> 15\u001B[0m \u001B[38;5;28;01mfrom\u001B[39;00m \u001B[38;5;21;01m.\u001B[39;00m\u001B[38;5;21;01m_core_utils\u001B[39;00m \u001B[38;5;28;01mimport\u001B[39;00m get_type_ref\n\u001B[1;32m     16\u001B[0m \u001B[38;5;28;01mfrom\u001B[39;00m \u001B[38;5;21;01m.\u001B[39;00m\u001B[38;5;21;01m_internal_dataclass\u001B[39;00m \u001B[38;5;28;01mimport\u001B[39;00m slots_true\n",
      "File \u001B[0;32m~/miniconda3/lib/python3.10/site-packages/pydantic/_internal/_core_utils.py:15\u001B[0m\n\u001B[1;32m     14\u001B[0m \u001B[38;5;28;01mfrom\u001B[39;00m \u001B[38;5;21;01mpydantic_core\u001B[39;00m \u001B[38;5;28;01mimport\u001B[39;00m validate_core_schema \u001B[38;5;28;01mas\u001B[39;00m _validate_core_schema\n\u001B[0;32m---> 15\u001B[0m \u001B[38;5;28;01mfrom\u001B[39;00m \u001B[38;5;21;01mtyping_extensions\u001B[39;00m \u001B[38;5;28;01mimport\u001B[39;00m TypeAliasType, TypeGuard, get_args, get_origin\n\u001B[1;32m     17\u001B[0m \u001B[38;5;28;01mfrom\u001B[39;00m \u001B[38;5;21;01m.\u001B[39;00m \u001B[38;5;28;01mimport\u001B[39;00m _repr\n",
      "\u001B[0;31mImportError\u001B[0m: cannot import name 'TypeAliasType' from 'typing_extensions' (/home/abdu/.local/lib/python3.10/site-packages/typing_extensions.py)",
      "\nDuring handling of the above exception, another exception occurred:\n",
      "\u001B[0;31mImportError\u001B[0m                               Traceback (most recent call last)",
      "Cell \u001B[0;32mIn[19], line 1\u001B[0m\n\u001B[0;32m----> 1\u001B[0m \u001B[38;5;28;01mfrom\u001B[39;00m \u001B[38;5;21;01mllama_index\u001B[39;00m\u001B[38;5;21;01m.\u001B[39;00m\u001B[38;5;21;01mcore\u001B[39;00m \u001B[38;5;28;01mimport\u001B[39;00m download_loader\n\u001B[1;32m      3\u001B[0m \u001B[38;5;28;01mfrom\u001B[39;00m \u001B[38;5;21;01mllama_index\u001B[39;00m\u001B[38;5;21;01m.\u001B[39;00m\u001B[38;5;21;01mreaders\u001B[39;00m\u001B[38;5;21;01m.\u001B[39;00m\u001B[38;5;21;01mwikipedia\u001B[39;00m \u001B[38;5;28;01mimport\u001B[39;00m WikipediaReader\n\u001B[1;32m      5\u001B[0m loader \u001B[38;5;241m=\u001B[39m WikipediaReader()\n",
      "File \u001B[0;32m~/miniconda3/lib/python3.10/site-packages/llama_index/core/__init__.py:10\u001B[0m\n\u001B[1;32m      7\u001B[0m \u001B[38;5;28;01mfrom\u001B[39;00m \u001B[38;5;21;01mtyping\u001B[39;00m \u001B[38;5;28;01mimport\u001B[39;00m Callable, Optional\n\u001B[1;32m      9\u001B[0m \u001B[38;5;66;03m# response\u001B[39;00m\n\u001B[0;32m---> 10\u001B[0m \u001B[38;5;28;01mfrom\u001B[39;00m \u001B[38;5;21;01mllama_index\u001B[39;00m\u001B[38;5;21;01m.\u001B[39;00m\u001B[38;5;21;01mcore\u001B[39;00m\u001B[38;5;21;01m.\u001B[39;00m\u001B[38;5;21;01mbase\u001B[39;00m\u001B[38;5;21;01m.\u001B[39;00m\u001B[38;5;21;01mresponse\u001B[39;00m\u001B[38;5;21;01m.\u001B[39;00m\u001B[38;5;21;01mschema\u001B[39;00m \u001B[38;5;28;01mimport\u001B[39;00m Response\n\u001B[1;32m     12\u001B[0m \u001B[38;5;66;03m# import global eval handler\u001B[39;00m\n\u001B[1;32m     13\u001B[0m \u001B[38;5;28;01mfrom\u001B[39;00m \u001B[38;5;21;01mllama_index\u001B[39;00m\u001B[38;5;21;01m.\u001B[39;00m\u001B[38;5;21;01mcore\u001B[39;00m\u001B[38;5;21;01m.\u001B[39;00m\u001B[38;5;21;01mcallbacks\u001B[39;00m\u001B[38;5;21;01m.\u001B[39;00m\u001B[38;5;21;01mglobal_handlers\u001B[39;00m \u001B[38;5;28;01mimport\u001B[39;00m set_global_handler\n",
      "File \u001B[0;32m~/miniconda3/lib/python3.10/site-packages/llama_index/core/base/response/schema.py:9\u001B[0m\n\u001B[1;32m      7\u001B[0m \u001B[38;5;28;01mfrom\u001B[39;00m \u001B[38;5;21;01mllama_index\u001B[39;00m\u001B[38;5;21;01m.\u001B[39;00m\u001B[38;5;21;01mcore\u001B[39;00m\u001B[38;5;21;01m.\u001B[39;00m\u001B[38;5;21;01mbridge\u001B[39;00m\u001B[38;5;21;01m.\u001B[39;00m\u001B[38;5;21;01mpydantic\u001B[39;00m \u001B[38;5;28;01mimport\u001B[39;00m BaseModel\n\u001B[1;32m      8\u001B[0m \u001B[38;5;28;01mfrom\u001B[39;00m \u001B[38;5;21;01mllama_index\u001B[39;00m\u001B[38;5;21;01m.\u001B[39;00m\u001B[38;5;21;01mcore\u001B[39;00m\u001B[38;5;21;01m.\u001B[39;00m\u001B[38;5;21;01mschema\u001B[39;00m \u001B[38;5;28;01mimport\u001B[39;00m NodeWithScore\n\u001B[0;32m----> 9\u001B[0m \u001B[38;5;28;01mfrom\u001B[39;00m \u001B[38;5;21;01mllama_index\u001B[39;00m\u001B[38;5;21;01m.\u001B[39;00m\u001B[38;5;21;01mcore\u001B[39;00m\u001B[38;5;21;01m.\u001B[39;00m\u001B[38;5;21;01mtypes\u001B[39;00m \u001B[38;5;28;01mimport\u001B[39;00m TokenGen, TokenAsyncGen\n\u001B[1;32m     10\u001B[0m \u001B[38;5;28;01mfrom\u001B[39;00m \u001B[38;5;21;01mllama_index\u001B[39;00m\u001B[38;5;21;01m.\u001B[39;00m\u001B[38;5;21;01mcore\u001B[39;00m\u001B[38;5;21;01m.\u001B[39;00m\u001B[38;5;21;01mutils\u001B[39;00m \u001B[38;5;28;01mimport\u001B[39;00m truncate_text\n\u001B[1;32m     13\u001B[0m \u001B[38;5;129m@dataclass\u001B[39m\n\u001B[1;32m     14\u001B[0m \u001B[38;5;28;01mclass\u001B[39;00m \u001B[38;5;21;01mResponse\u001B[39;00m:\n",
      "File \u001B[0;32m~/miniconda3/lib/python3.10/site-packages/llama_index/core/types.py:17\u001B[0m\n\u001B[1;32m      2\u001B[0m \u001B[38;5;28;01mfrom\u001B[39;00m \u001B[38;5;21;01menum\u001B[39;00m \u001B[38;5;28;01mimport\u001B[39;00m Enum\n\u001B[1;32m      3\u001B[0m \u001B[38;5;28;01mfrom\u001B[39;00m \u001B[38;5;21;01mtyping\u001B[39;00m \u001B[38;5;28;01mimport\u001B[39;00m (\n\u001B[1;32m      4\u001B[0m     Any,\n\u001B[1;32m      5\u001B[0m     AsyncGenerator,\n\u001B[0;32m   (...)\u001B[0m\n\u001B[1;32m     14\u001B[0m     runtime_checkable,\n\u001B[1;32m     15\u001B[0m )\n\u001B[0;32m---> 17\u001B[0m \u001B[38;5;28;01mfrom\u001B[39;00m \u001B[38;5;21;01mllama_index\u001B[39;00m\u001B[38;5;21;01m.\u001B[39;00m\u001B[38;5;21;01mcore\u001B[39;00m\u001B[38;5;21;01m.\u001B[39;00m\u001B[38;5;21;01mbase\u001B[39;00m\u001B[38;5;21;01m.\u001B[39;00m\u001B[38;5;21;01mllms\u001B[39;00m\u001B[38;5;21;01m.\u001B[39;00m\u001B[38;5;21;01mtypes\u001B[39;00m \u001B[38;5;28;01mimport\u001B[39;00m ChatMessage, MessageRole\n\u001B[1;32m     18\u001B[0m \u001B[38;5;28;01mfrom\u001B[39;00m \u001B[38;5;21;01mllama_index\u001B[39;00m\u001B[38;5;21;01m.\u001B[39;00m\u001B[38;5;21;01mcore\u001B[39;00m\u001B[38;5;21;01m.\u001B[39;00m\u001B[38;5;21;01mbridge\u001B[39;00m\u001B[38;5;21;01m.\u001B[39;00m\u001B[38;5;21;01mpydantic\u001B[39;00m \u001B[38;5;28;01mimport\u001B[39;00m BaseModel\n\u001B[1;32m     20\u001B[0m Model \u001B[38;5;241m=\u001B[39m TypeVar(\u001B[38;5;124m\"\u001B[39m\u001B[38;5;124mModel\u001B[39m\u001B[38;5;124m\"\u001B[39m, bound\u001B[38;5;241m=\u001B[39mBaseModel)\n",
      "File \u001B[0;32m~/miniconda3/lib/python3.10/site-packages/llama_index/core/base/llms/types.py:11\u001B[0m\n\u001B[1;32m      9\u001B[0m     \u001B[38;5;28;01mfrom\u001B[39;00m \u001B[38;5;21;01mpydantic\u001B[39;00m\u001B[38;5;21;01m.\u001B[39;00m\u001B[38;5;21;01mv1\u001B[39;00m \u001B[38;5;28;01mimport\u001B[39;00m BaseModel \u001B[38;5;28;01mas\u001B[39;00m V1BaseModel\n\u001B[1;32m     10\u001B[0m \u001B[38;5;28;01mexcept\u001B[39;00m \u001B[38;5;167;01mImportError\u001B[39;00m:\n\u001B[0;32m---> 11\u001B[0m     \u001B[38;5;28;01mfrom\u001B[39;00m \u001B[38;5;21;01mpydantic\u001B[39;00m \u001B[38;5;28;01mimport\u001B[39;00m BaseModel \u001B[38;5;28;01mas\u001B[39;00m V2BaseModel\n\u001B[1;32m     13\u001B[0m     V1BaseModel \u001B[38;5;241m=\u001B[39m V2BaseModel\n\u001B[1;32m     16\u001B[0m \u001B[38;5;28;01mclass\u001B[39;00m \u001B[38;5;21;01mMessageRole\u001B[39;00m(\u001B[38;5;28mstr\u001B[39m, Enum):\n",
      "File \u001B[0;32m~/miniconda3/lib/python3.10/site-packages/pydantic/__init__.py:395\u001B[0m, in \u001B[0;36m__getattr__\u001B[0;34m(attr_name)\u001B[0m\n\u001B[1;32m    393\u001B[0m     \u001B[38;5;28;01mreturn\u001B[39;00m import_module(\u001B[38;5;124mf\u001B[39m\u001B[38;5;124m'\u001B[39m\u001B[38;5;124m.\u001B[39m\u001B[38;5;132;01m{\u001B[39;00mattr_name\u001B[38;5;132;01m}\u001B[39;00m\u001B[38;5;124m'\u001B[39m, package\u001B[38;5;241m=\u001B[39mpackage)\n\u001B[1;32m    394\u001B[0m \u001B[38;5;28;01melse\u001B[39;00m:\n\u001B[0;32m--> 395\u001B[0m     module \u001B[38;5;241m=\u001B[39m \u001B[43mimport_module\u001B[49m\u001B[43m(\u001B[49m\u001B[43mmodule_name\u001B[49m\u001B[43m,\u001B[49m\u001B[43m \u001B[49m\u001B[43mpackage\u001B[49m\u001B[38;5;241;43m=\u001B[39;49m\u001B[43mpackage\u001B[49m\u001B[43m)\u001B[49m\n\u001B[1;32m    396\u001B[0m     \u001B[38;5;28;01mreturn\u001B[39;00m \u001B[38;5;28mgetattr\u001B[39m(module, attr_name)\n",
      "File \u001B[0;32m~/miniconda3/lib/python3.10/importlib/__init__.py:126\u001B[0m, in \u001B[0;36mimport_module\u001B[0;34m(name, package)\u001B[0m\n\u001B[1;32m    124\u001B[0m             \u001B[38;5;28;01mbreak\u001B[39;00m\n\u001B[1;32m    125\u001B[0m         level \u001B[38;5;241m+\u001B[39m\u001B[38;5;241m=\u001B[39m \u001B[38;5;241m1\u001B[39m\n\u001B[0;32m--> 126\u001B[0m \u001B[38;5;28;01mreturn\u001B[39;00m \u001B[43m_bootstrap\u001B[49m\u001B[38;5;241;43m.\u001B[39;49m\u001B[43m_gcd_import\u001B[49m\u001B[43m(\u001B[49m\u001B[43mname\u001B[49m\u001B[43m[\u001B[49m\u001B[43mlevel\u001B[49m\u001B[43m:\u001B[49m\u001B[43m]\u001B[49m\u001B[43m,\u001B[49m\u001B[43m \u001B[49m\u001B[43mpackage\u001B[49m\u001B[43m,\u001B[49m\u001B[43m \u001B[49m\u001B[43mlevel\u001B[49m\u001B[43m)\u001B[49m\n",
      "File \u001B[0;32m~/miniconda3/lib/python3.10/site-packages/pydantic/main.py:17\u001B[0m\n\u001B[1;32m     14\u001B[0m \u001B[38;5;28;01mfrom\u001B[39;00m \u001B[38;5;21;01mpydantic_core\u001B[39;00m \u001B[38;5;28;01mimport\u001B[39;00m PydanticUndefined\n\u001B[1;32m     15\u001B[0m \u001B[38;5;28;01mfrom\u001B[39;00m \u001B[38;5;21;01mtyping_extensions\u001B[39;00m \u001B[38;5;28;01mimport\u001B[39;00m TypeAlias\n\u001B[0;32m---> 17\u001B[0m \u001B[38;5;28;01mfrom\u001B[39;00m \u001B[38;5;21;01m.\u001B[39;00m\u001B[38;5;21;01m_internal\u001B[39;00m \u001B[38;5;28;01mimport\u001B[39;00m (\n\u001B[1;32m     18\u001B[0m     _config,\n\u001B[1;32m     19\u001B[0m     _decorators,\n\u001B[1;32m     20\u001B[0m     _fields,\n\u001B[1;32m     21\u001B[0m     _forward_ref,\n\u001B[1;32m     22\u001B[0m     _generics,\n\u001B[1;32m     23\u001B[0m     _mock_val_ser,\n\u001B[1;32m     24\u001B[0m     _model_construction,\n\u001B[1;32m     25\u001B[0m     _repr,\n\u001B[1;32m     26\u001B[0m     _typing_extra,\n\u001B[1;32m     27\u001B[0m     _utils,\n\u001B[1;32m     28\u001B[0m )\n\u001B[1;32m     29\u001B[0m \u001B[38;5;28;01mfrom\u001B[39;00m \u001B[38;5;21;01m.\u001B[39;00m\u001B[38;5;21;01m_migration\u001B[39;00m \u001B[38;5;28;01mimport\u001B[39;00m getattr_migration\n\u001B[1;32m     30\u001B[0m \u001B[38;5;28;01mfrom\u001B[39;00m \u001B[38;5;21;01m.\u001B[39;00m\u001B[38;5;21;01maliases\u001B[39;00m \u001B[38;5;28;01mimport\u001B[39;00m AliasChoices, AliasPath\n",
      "File \u001B[0;32m~/miniconda3/lib/python3.10/site-packages/pydantic/_internal/_decorators.py:15\u001B[0m\n\u001B[1;32m     12\u001B[0m \u001B[38;5;28;01mfrom\u001B[39;00m \u001B[38;5;21;01mtyping_extensions\u001B[39;00m \u001B[38;5;28;01mimport\u001B[39;00m Literal, TypeAlias, is_typeddict\n\u001B[1;32m     14\u001B[0m \u001B[38;5;28;01mfrom\u001B[39;00m \u001B[38;5;21;01m.\u001B[39;00m\u001B[38;5;21;01m.\u001B[39;00m\u001B[38;5;21;01merrors\u001B[39;00m \u001B[38;5;28;01mimport\u001B[39;00m PydanticUserError\n\u001B[0;32m---> 15\u001B[0m \u001B[38;5;28;01mfrom\u001B[39;00m \u001B[38;5;21;01m.\u001B[39;00m\u001B[38;5;21;01m_core_utils\u001B[39;00m \u001B[38;5;28;01mimport\u001B[39;00m get_type_ref\n\u001B[1;32m     16\u001B[0m \u001B[38;5;28;01mfrom\u001B[39;00m \u001B[38;5;21;01m.\u001B[39;00m\u001B[38;5;21;01m_internal_dataclass\u001B[39;00m \u001B[38;5;28;01mimport\u001B[39;00m slots_true\n\u001B[1;32m     17\u001B[0m \u001B[38;5;28;01mfrom\u001B[39;00m \u001B[38;5;21;01m.\u001B[39;00m\u001B[38;5;21;01m_typing_extra\u001B[39;00m \u001B[38;5;28;01mimport\u001B[39;00m get_function_type_hints\n",
      "File \u001B[0;32m~/miniconda3/lib/python3.10/site-packages/pydantic/_internal/_core_utils.py:15\u001B[0m\n\u001B[1;32m     13\u001B[0m \u001B[38;5;28;01mfrom\u001B[39;00m \u001B[38;5;21;01mpydantic_core\u001B[39;00m \u001B[38;5;28;01mimport\u001B[39;00m CoreSchema, core_schema\n\u001B[1;32m     14\u001B[0m \u001B[38;5;28;01mfrom\u001B[39;00m \u001B[38;5;21;01mpydantic_core\u001B[39;00m \u001B[38;5;28;01mimport\u001B[39;00m validate_core_schema \u001B[38;5;28;01mas\u001B[39;00m _validate_core_schema\n\u001B[0;32m---> 15\u001B[0m \u001B[38;5;28;01mfrom\u001B[39;00m \u001B[38;5;21;01mtyping_extensions\u001B[39;00m \u001B[38;5;28;01mimport\u001B[39;00m TypeAliasType, TypeGuard, get_args, get_origin\n\u001B[1;32m     17\u001B[0m \u001B[38;5;28;01mfrom\u001B[39;00m \u001B[38;5;21;01m.\u001B[39;00m \u001B[38;5;28;01mimport\u001B[39;00m _repr\n\u001B[1;32m     18\u001B[0m \u001B[38;5;28;01mfrom\u001B[39;00m \u001B[38;5;21;01m.\u001B[39;00m\u001B[38;5;21;01m_typing_extra\u001B[39;00m \u001B[38;5;28;01mimport\u001B[39;00m is_generic_alias\n",
      "\u001B[0;31mImportError\u001B[0m: cannot import name 'TypeAliasType' from 'typing_extensions' (/home/abdu/.local/lib/python3.10/site-packages/typing_extensions.py)"
     ]
    }
   ],
   "source": [
    "from llama_index.core import download_loader\n",
    "\n",
    "from llama_index.readers.wikipedia import WikipediaReader\n",
    "\n",
    "loader = WikipediaReader()\n",
    "\n",
    "documents = loader.load_data(\n",
    "    pages=[\"Guardians of the Galaxy Vol. 3\"], auto_suggest=False\n",
    ")"
   ],
   "metadata": {
    "collapsed": false,
    "ExecuteTime": {
     "end_time": "2024-04-25T16:48:14.121866Z",
     "start_time": "2024-04-25T16:48:13.190265Z"
    }
   },
   "id": "f3eec5987ff3e0ec",
   "execution_count": 19
  },
  {
   "cell_type": "code",
   "outputs": [],
   "source": [],
   "metadata": {
    "collapsed": false
   },
   "id": "9b8f40dd8743e780"
  }
 ],
 "metadata": {
  "kernelspec": {
   "display_name": "Python 3",
   "language": "python",
   "name": "python3"
  },
  "language_info": {
   "codemirror_mode": {
    "name": "ipython",
    "version": 2
   },
   "file_extension": ".py",
   "mimetype": "text/x-python",
   "name": "python",
   "nbconvert_exporter": "python",
   "pygments_lexer": "ipython2",
   "version": "2.7.6"
  }
 },
 "nbformat": 4,
 "nbformat_minor": 5
}
